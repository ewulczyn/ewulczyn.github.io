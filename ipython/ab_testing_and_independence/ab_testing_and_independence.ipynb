{
 "cells": [
  {
   "cell_type": "code",
   "execution_count": 103,
   "metadata": {
    "collapsed": false
   },
   "outputs": [],
   "source": [
    "import numpy as np\n",
    "from scipy.stats import beta as beta_dist\n",
    "from random import random\n",
    "import itertools\n",
    "from statsmodels.stats.proportion import proportion_confint\n",
    "from statsmodels.stats.weightstats import ztest\n",
    "%matplotlib inline\n",
    "from matplotlib import pyplot as plt"
   ]
  },
  {
   "cell_type": "code",
   "execution_count": 111,
   "metadata": {
    "collapsed": false
   },
   "outputs": [],
   "source": [
    "class User:\n",
    "    def __init__(self):\n",
    "        self.condition = None\n",
    "        self.data = None\n",
    "        self.p = None   "
   ]
  },
  {
   "cell_type": "code",
   "execution_count": 134,
   "metadata": {
    "collapsed": true
   },
   "outputs": [],
   "source": [
    "class Treatment:\n",
    "    def __init__(self, condition, alpha, beta, p_exit = 0.3, p_donate_decay = 0.9):\n",
    "        self.condition = condition\n",
    "        self.alpha = alpha\n",
    "        self.beta = beta\n",
    "        self.p_exit = p_exit\n",
    "        self.p_donate_decay = p_donate_decay\n",
    "        \n",
    "    def treat(self, user):\n",
    "        user.condition = self.condition\n",
    "        user.p = beta_dist.rvs(self.alpha, self.beta)\n",
    "        user.data = []\n",
    "        \n",
    "        for i in range(10):\n",
    "            if random() < (user.p * self.p_donate_decay ** i):\n",
    "                user.data.append(1)\n",
    "                return user\n",
    "            else:\n",
    "                user.data.append(0)      \n",
    "            if random() < self.p_exit:\n",
    "                return user\n",
    "        return user"
   ]
  },
  {
   "cell_type": "code",
   "execution_count": 135,
   "metadata": {
    "collapsed": false
   },
   "outputs": [],
   "source": [
    "def run_experiment(A, B, n_samples):\n",
    "    users_A = []\n",
    "    users_B = []\n",
    "\n",
    "    for i in range(2 * n_samples):\n",
    "        user = User()\n",
    "        if random() < 0.5:\n",
    "            users_A.append(A.treat(user))\n",
    "        else:\n",
    "            users_B.append(B.treat(user))\n",
    "    return users_A, users_B    "
   ]
  },
  {
   "cell_type": "code",
   "execution_count": 160,
   "metadata": {
    "collapsed": false
   },
   "outputs": [],
   "source": [
    "def validate_test(test, n_runs, A, B, n_samples, alpha=0.95):\n",
    "    ps = []\n",
    "    for i in range(n_runs):\n",
    "        users_A, users_B = run_experiment(A, B, n_samples)\n",
    "        ps.append(test(users_A, users_B))\n",
    "        \n",
    "    n_significant = (np.array(ps)<(1-alpha)).sum()\n",
    "    return proportion_confint(n_significant, n_runs)"
   ]
  },
  {
   "cell_type": "code",
   "execution_count": 136,
   "metadata": {
    "collapsed": true
   },
   "outputs": [],
   "source": [
    "def significance_test_1(users_A, users_B):\n",
    "    \n",
    "    def helper(users):\n",
    "        data = [u.data for u in users]\n",
    "        return list(itertools.chain.from_iterable(data))\n",
    "    return ztest(helper(users_A), helper(users_B))[1]"
   ]
  },
  {
   "cell_type": "code",
   "execution_count": 148,
   "metadata": {
    "collapsed": true
   },
   "outputs": [],
   "source": [
    "n_runs = 10000\n",
    "n_samples = 100\n",
    "alpha = 0.95"
   ]
  },
  {
   "cell_type": "code",
   "execution_count": 149,
   "metadata": {
    "collapsed": false
   },
   "outputs": [
    {
     "data": {
      "text/plain": [
       "(0.048801211998194885, 0.05759878800180511)"
      ]
     },
     "execution_count": 149,
     "metadata": {},
     "output_type": "execute_result"
    }
   ],
   "source": [
    "A = Treatment('A', 10, 10, p_exit=1.0)\n",
    "B = Treatment('B', 10, 10, p_exit=1.0)\n",
    "validate_test(significance_test_1, n_runs, A, B, n_samples, alpha=alpha)"
   ]
  },
  {
   "cell_type": "code",
   "execution_count": 150,
   "metadata": {
    "collapsed": false
   },
   "outputs": [
    {
     "data": {
      "text/plain": [
       "(0.049185638944810886, 0.058014361055189118)"
      ]
     },
     "execution_count": 150,
     "metadata": {},
     "output_type": "execute_result"
    }
   ],
   "source": [
    "A = Treatment('A', 1, 1, p_exit=1.0)\n",
    "B = Treatment('B', 10, 10, p_exit=1.0)\n",
    "validate_test(significance_test_1, n_runs, A, B, n_samples, alpha=alpha)"
   ]
  },
  {
   "cell_type": "code",
   "execution_count": 151,
   "metadata": {
    "collapsed": false
   },
   "outputs": [
    {
     "data": {
      "text/plain": [
       "(0.079242779179822032, 0.090157220820177963)"
      ]
     },
     "execution_count": 151,
     "metadata": {},
     "output_type": "execute_result"
    }
   ],
   "source": [
    "A = Treatment('A', 10, 10, p_exit=0.3)\n",
    "B = Treatment('B', 10, 10, p_exit=0.3)\n",
    "validate_test(significance_test_1, n_runs, A, B, n_samples, alpha=alpha)"
   ]
  },
  {
   "cell_type": "code",
   "execution_count": 153,
   "metadata": {
    "collapsed": false
   },
   "outputs": [
    {
     "data": {
      "text/plain": [
       "(0.093730575731756666, 0.10546942426824332)"
      ]
     },
     "execution_count": 153,
     "metadata": {},
     "output_type": "execute_result"
    }
   ],
   "source": [
    "A = Treatment('A', 10, 10, p_exit=0.2)\n",
    "B = Treatment('B', 10, 10, p_exit=0.2)\n",
    "validate_test(significance_test_1, n_runs, A, B, n_samples, alpha=alpha)"
   ]
  },
  {
   "cell_type": "code",
   "execution_count": 166,
   "metadata": {
    "collapsed": true
   },
   "outputs": [],
   "source": [
    "def significance_test_2(users_A, users_B):\n",
    "    \n",
    "    def helper(users):\n",
    "        data = []\n",
    "        for u in users:\n",
    "            if sum(u.data) > 0.0:\n",
    "                data.append(1.0)\n",
    "            else:\n",
    "                data.append(0.0)\n",
    "        return data\n",
    "    \n",
    "    return ztest(helper(users_A), helper(users_B))[1]"
   ]
  },
  {
   "cell_type": "code",
   "execution_count": 167,
   "metadata": {
    "collapsed": false
   },
   "outputs": [
    {
     "data": {
      "text/plain": [
       "(0.049377878196110218, 0.058222121803889783)"
      ]
     },
     "execution_count": 167,
     "metadata": {},
     "output_type": "execute_result"
    }
   ],
   "source": [
    "A = Treatment('A', 10, 10, p_exit=1.0)\n",
    "B = Treatment('B', 10, 10, p_exit=1.0)\n",
    "validate_test(significance_test_2, n_runs, A, B, n_samples, alpha=alpha)"
   ]
  },
  {
   "cell_type": "code",
   "execution_count": 168,
   "metadata": {
    "collapsed": false
   },
   "outputs": [
    {
     "data": {
      "text/plain": [
       "(0.048224701846025037, 0.056975298153974965)"
      ]
     },
     "execution_count": 168,
     "metadata": {},
     "output_type": "execute_result"
    }
   ],
   "source": [
    "A = Treatment('A', 10, 10, p_exit=0.3)\n",
    "B = Treatment('B', 10, 10, p_exit=0.3)\n",
    "validate_test(significance_test_2, n_runs, A, B, n_samples, alpha=alpha)"
   ]
  },
  {
   "cell_type": "code",
   "execution_count": 169,
   "metadata": {
    "collapsed": false
   },
   "outputs": [
    {
     "data": {
      "text/plain": [
       "(0.045632406717193867, 0.054167593282806133)"
      ]
     },
     "execution_count": 169,
     "metadata": {},
     "output_type": "execute_result"
    }
   ],
   "source": [
    "A = Treatment('A', 10, 10, p_exit=0.2)\n",
    "B = Treatment('B', 10, 10, p_exit=0.2)\n",
    "validate_test(significance_test_2, n_runs, A, B, n_samples, alpha=alpha)"
   ]
  },
  {
   "cell_type": "code",
   "execution_count": 172,
   "metadata": {
    "collapsed": true
   },
   "outputs": [],
   "source": [
    "def significance_test_3(users_A, users_B):\n",
    "    \n",
    "    def helper(users):\n",
    "        return [sum(u.data) for u in users]\n",
    "    \n",
    "    return ztest(helper(users_A), helper(users_B))[1]"
   ]
  },
  {
   "cell_type": "code",
   "execution_count": 173,
   "metadata": {
    "collapsed": false
   },
   "outputs": [
    {
     "data": {
      "text/plain": [
       "(0.048609024485726904, 0.057390975514273093)"
      ]
     },
     "execution_count": 173,
     "metadata": {},
     "output_type": "execute_result"
    }
   ],
   "source": [
    "A = Treatment('A', 10, 10, p_exit=0.2)\n",
    "B = Treatment('B', 10, 10, p_exit=0.2)\n",
    "validate_test(significance_test_3, n_runs, A, B, n_samples, alpha=alpha)"
   ]
  },
  {
   "cell_type": "code",
   "execution_count": null,
   "metadata": {
    "collapsed": true
   },
   "outputs": [],
   "source": []
  }
 ],
 "metadata": {
  "kernelspec": {
   "display_name": "Python 3",
   "language": "python",
   "name": "python3"
  },
  "language_info": {
   "codemirror_mode": {
    "name": "ipython",
    "version": 3
   },
   "file_extension": ".py",
   "mimetype": "text/x-python",
   "name": "python",
   "nbconvert_exporter": "python",
   "pygments_lexer": "ipython3",
   "version": "3.5.1"
  }
 },
 "nbformat": 4,
 "nbformat_minor": 0
}
