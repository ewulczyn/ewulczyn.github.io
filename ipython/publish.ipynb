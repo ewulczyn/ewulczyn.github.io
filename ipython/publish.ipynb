{
 "cells": [
  {
   "cell_type": "code",
   "execution_count": 153,
   "metadata": {
    "collapsed": true
   },
   "outputs": [],
   "source": [
    "title = 'Beautifully Bayesian - How to do AB Testing with Discrete Rewards?'\n",
    "date = '2015-03-16'\n",
    "notebook = 'ab_testing_with_multinomial_data'"
   ]
  },
  {
   "cell_type": "code",
   "execution_count": 154,
   "metadata": {
    "collapsed": true
   },
   "outputs": [],
   "source": [
    "params = {'title': title, 'nb': notebook, 'date': date}"
   ]
  },
  {
   "cell_type": "code",
   "execution_count": 213,
   "metadata": {
    "collapsed": true
   },
   "outputs": [],
   "source": [
    "header = \"\"\"---\n",
    "layout: post\n",
    "title: %(title)s\n",
    "---\n",
    "\"\"\"\n",
    "\n",
    "header = header % params"
   ]
  },
  {
   "cell_type": "code",
   "execution_count": 214,
   "metadata": {
    "collapsed": false
   },
   "outputs": [
    {
     "data": {
      "text/plain": [
       "0"
      ]
     },
     "execution_count": 214,
     "metadata": {},
     "output_type": "execute_result"
    }
   ],
   "source": [
    "import os\n",
    "os.system('jupyter nbconvert --to markdown %(nb)s/%(nb)s.ipynb' % params)"
   ]
  },
  {
   "cell_type": "code",
   "execution_count": 215,
   "metadata": {
    "collapsed": false
   },
   "outputs": [
    {
     "data": {
      "text/plain": [
       "0"
      ]
     },
     "execution_count": 215,
     "metadata": {},
     "output_type": "execute_result"
    }
   ],
   "source": [
    "os.system('mv %(nb)s_files/* %(nb)s/%(nb)s_files' % params)\n",
    "os.system('rm -rf %(nb)s_files' % params)\n",
    "os.system('mv %(nb)s.md %(nb)s/%(nb)s.md' % params)"
   ]
  },
  {
   "cell_type": "code",
   "execution_count": 243,
   "metadata": {
    "collapsed": false
   },
   "outputs": [],
   "source": [
    "text = open('%(nb)s/%(nb)s.md' % params, 'r').read()"
   ]
  },
  {
   "cell_type": "code",
   "execution_count": 244,
   "metadata": {
    "collapsed": false
   },
   "outputs": [],
   "source": [
    "import re\n",
    "text = re.sub(r'!\\[png\\]\\(', r'![_config.yml]({{ site.baseurl }}/ipython/%(nb)s/' % params, text)\n",
    "\n",
    "text = re.sub(r'\\$(.*?)\\$', lambda x: x.group().replace('_', '\\_'), text)\n",
    "\n",
    "text = re.sub(r'\\$(.*?)\\$', lambda x: x.group().replace('|', '\\|'), text)\n",
    "\n",
    "\n",
    "text = re.sub(r\"\\$(.*?)\\$\", r\"\\\\\\\\(\\1\\\\\\\\)\", text)"
   ]
  },
  {
   "cell_type": "code",
   "execution_count": 245,
   "metadata": {
    "collapsed": false
   },
   "outputs": [],
   "source": [
    "with open(\"../_posts/%(date)s-%(nb)s.md\" % params, \"w\") as f:\n",
    "    f.write(header + \"\\n\" + text)"
   ]
  },
  {
   "cell_type": "code",
   "execution_count": 207,
   "metadata": {
    "collapsed": false
   },
   "outputs": [
    {
     "data": {
      "text/plain": [
       "'\\n$$\\n\\\\mathcal P \\\\left({ p_a, p_b | Data }\\right) = \\\\mathcal P \\\\left({p_a | Data_a }\\right) * \\\\mathcal P \\\\left({p_b | Data_b }\\right)\\n$$\\n'"
      ]
     },
     "execution_count": 207,
     "metadata": {},
     "output_type": "execute_result"
    }
   ],
   "source": [
    "text =\"$p_b$\"\n",
    "\n",
    "text = re.sub(r\"(\\$.*?)_(.*?\\$)\", r\"\\1\\_\\2\", text)\n",
    "text"
   ]
  },
  {
   "cell_type": "code",
   "execution_count": 212,
   "metadata": {
    "collapsed": false
   },
   "outputs": [
    {
     "data": {
      "text/plain": [
       "'\\n$$\\n\\\\mathcal P \\\\left({ p_a, p_b | Data }\\right) = \\\\mathcal P \\\\left({p_a | Data_a }\\right) * \\\\mathcal P \\\\left({p_b | Data_b }\\right)\\n$$'"
      ]
     },
     "execution_count": 212,
     "metadata": {},
     "output_type": "execute_result"
    }
   ],
   "source": [
    "text =\"\"\"\n",
    "$$\n",
    "\\mathcal P \\left({ p_a, p_b | Data }\\right) = \\mathcal P \\left({p_a | Data_a }\\right) * \\mathcal P \\left({p_b | Data_b }\\right)\n",
    "$$\"\"\"\n",
    "\n",
    "\n",
    "text = re.sub(r\"\\$\\$(.*?)\\$\\$\", r\"\\\\\\\\[\\1\\\\\\\\]\", text)\n",
    "text"
   ]
  },
  {
   "cell_type": "code",
   "execution_count": 239,
   "metadata": {
    "collapsed": false
   },
   "outputs": [
    {
     "data": {
      "text/plain": [
       "'$p\\\\_b, p\\\\_a$, $p\\\\_b, p\\\\_a$'"
      ]
     },
     "execution_count": 239,
     "metadata": {},
     "output_type": "execute_result"
    }
   ],
   "source": [
    "import re\n",
    "\n",
    "\n",
    "text = \"$p_b, p_a$, $p_b, p_a$\"\n",
    "\n",
    "text = re.sub(r'\\$(.*?)\\$', lambda x: x.group().replace('_', '\\_'), text)\n",
    "\n",
    "text"
   ]
  },
  {
   "cell_type": "code",
   "execution_count": null,
   "metadata": {
    "collapsed": true
   },
   "outputs": [],
   "source": []
  }
 ],
 "metadata": {
  "kernelspec": {
   "display_name": "Python 3",
   "language": "python",
   "name": "python3"
  },
  "language_info": {
   "codemirror_mode": {
    "name": "ipython",
    "version": 3
   },
   "file_extension": ".py",
   "mimetype": "text/x-python",
   "name": "python",
   "nbconvert_exporter": "python",
   "pygments_lexer": "ipython3",
   "version": "3.5.1"
  }
 },
 "nbformat": 4,
 "nbformat_minor": 0
}
