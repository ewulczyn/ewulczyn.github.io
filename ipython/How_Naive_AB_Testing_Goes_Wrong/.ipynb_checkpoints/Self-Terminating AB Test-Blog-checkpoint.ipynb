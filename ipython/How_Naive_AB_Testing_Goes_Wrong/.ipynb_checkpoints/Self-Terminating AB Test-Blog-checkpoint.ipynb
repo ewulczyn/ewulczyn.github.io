{
 "metadata": {
  "name": "",
  "signature": "sha256:c6e80df1624b577b5506d7da3890d4c50cee8179814a26f85b113eb8740b8c52"
 },
 "nbformat": 3,
 "nbformat_minor": 0,
 "worksheets": [
  {
   "cells": [
    {
     "cell_type": "markdown",
     "metadata": {},
     "source": [
      "At the Wikimedia Foundation we use A/B testing to optimize the number of donations per impressions from our fundraising banners.\n",
      "\n",
      "Although classical Null Hypthothesis tests are probably still the most widespread technique for online A/B tests, I would argue that they are not the most appropriate for the web optimization use case. Null Hypthothesis testing was designed for situations in which:\n",
      "\n",
      "1. the goal is to control the probability of declaring a difference in populations means when there is none\n",
      "\n",
      "Most academic scientists care about this because it corresponds to false discoveries, which are embarassing at best. But in the banner optimization setting, we actually don\u2019t care about declaring the banners different when they are not. When the banners are equivalent in terms of click through rates (CTR) there is no bad decision. It may set the designers down the wrong path, because they think that a change they made to the control banner is a big win. The choice, however, has no impact on the expected revenue. What we really want, is to control the probability of declaring the worse banner the winner when the banners are in fact different. \n",
      "\n",
      "\n",
      "2. the sample size is predetermined or fixed in advance\n",
      "\n",
      "When running web experiments, we can often choose how long to run the experiment. Null Hypothesis testing does not take advantage of this fact. Instead, the best practice is to calculate the sample size in advance of running the test. To determine the sample size, you need to have an estimate of the CTR of your control banner and decide on the minumum effect size you want to detect (MDE). You also need to choose the desired percent of the time a difference will be detected, assuming one does not exist (significance or alpha) and percent of the time the minimum effect size (MDE) will be detected, assuming it exists (power or beta). For more information on , check out the Wikipedia [page](http://en.wikipedia.org/wiki/Sample_size_determination#Required_sample_sizes_for_hypothesis_tests) on smaple size determination. For an [online calculator](http://www.evanmiller.org/ab-testing/sample-size.html), see Evan Miller's blog.\n",
      "\n",
      "Ceteris paribus, the sample size increases as you decrease the MDE. Now imagine a scenario in which you decided you want to be able to detect a 5% difference in click through rates. If the new banner is actually 50% better than the control, you have set yourself up for losing a lot of revenue on the portion of traffic exposed to the the control. Instead of commiting to a sample size in advance, we would really like our testing procedure to have an adaptive sample size. The larger the true difference in CTRs the shorter it should run. This should be possible since larger differences are easier detect with less data. \n",
      "\n",
      "It may be tempting (and many people have been tempted) to just run multiple null hypothesis tests as the data are coming in and decide to stop the test early or let it keep running. Some analysts even look at the p-value as a function of the sample size and stop the test if they feel like the p-vlaue has converged. There can be many valid reason's for peeking at test results that trump maintaining staitical soundness. One exmaple, is to check for glitches in the testing framework. The problem with peeeking, hosever,  is that it corrupts the test. The more often you peek the higher the effective probability of declaring a difference in CTRs when there is none.\n",
      "\n",
      "To summarize, we need a testing procedure that:\n",
      "\n",
      "1. takes advanatage of the fact that the amount of data we need to determine if the new banner is better than the control decreases as the difference increases, while\n",
      "\n",
      "2. controling the probability of declaring the worse banner to be the winner.\n",
      "\n",
      "What follows is a proposed method to meet these ends. It relies heavily on simulation and numeric bayesian statistics.\n",
      "\n",
      "As a warm up, consider the following algorithm:\n",
      "   ALG_1\n",
      "   Evaluate a Null Hypothesis Test on your samples every n records until you reach significance or hit the predetermined sample    size. If you stopped because you hit significance, declare the banner with the higher CTR at termination to be the winner.      If you stopped because you hit the max sample size, declare the winner to be unknown.\n",
      "\n",
      "\n",
      "I stated above that this kind of p_value peeking corrupts the classic null hypothesis test. When the peeking is ad hoc its very hard to measure its effect, but here the peeking is is done in a very controlled way and we can use simulation to answer questions like:\n",
      "\n",
      "How does the probability of picking banner A change as a function of the percent lift in CTR that A gives over B.\n",
      "\n",
      "\n",
      "We can simulate impressions of banner B by sampling from a bernoulli distribution $Bernoulli(CTR_B)$. We can emulate impressions from synthetic banner A with y percent lift over banner B, by sampling from $Bernoulli(CTR_B * (100+y)/100)$. For a given percent lift y, we can run the procedure described above k times to get an estimate for the probability of declaring A the winner and the distribution over the number of samples need to terminate.\n",
      "\n",
      "#In practice, we would not know CTR_B, but we can gather some samples and get an estimate CTR_BHAT and then sample from #Bernoulli(CTR_BHAT). Even better would be to form a confidence interval and use the lower bound, which I will explain later.\n",
      "\n",
      "\n",
      "```\n",
      "max_sample_size = compute_sample_size(control_CTR, mde, alpha, power) \n",
      "samples = []\n",
      "while p_value(samples) < alpha:\n",
      "    samples.append(get_samples(n))\n",
      "```\n",
      "\n",
      "\n",
      "\n",
      "\n",
      "To motivate the design choices made, lets Consider the following algorithm:\n",
      "\n",
      "\n",
      "\n",
      " \n",
      "1. Run the Control Banner for a while and form a 1-alpha confidence interval on its CTR\n",
      "\n",
      "Most of the time the control is the called the control because you have run it before and you have historical data on how it performed. In practice, the statistics underlying most behaviour on the web are not stationary, so beware that the data used for your estimate is reflective of the conditions under which you will actually test the banners.\n",
      "\n",
      "\n",
      "2. Create synthetic treatment banners (data drawn from \n",
      "\n"
     ]
    },
    {
     "cell_type": "code",
     "collapsed": false,
     "input": [
      "%matplotlib inline\n",
      "%load_ext autoreload\n",
      "%autoreload 2\n",
      "import pandas as pd\n",
      "pd.options.display.mpl_style = 'default'\n",
      "import numpy as np\n",
      "from abtest_util import SimStream, DonationProb, EmpiricalDonationProb\n",
      "from bayesian_abtest import CredibilityABTest, CostABTest\n",
      "from nh_abtest import NHABTest, samples_per_branch_calculator\n",
      "from abstract_abtest import expected_results, expected_results_by_lift"
     ],
     "language": "python",
     "metadata": {},
     "outputs": [
      {
       "output_type": "stream",
       "stream": "stdout",
       "text": [
        "The autoreload extension is already loaded. To reload it, use:\n",
        "  %reload_ext autoreload\n"
       ]
      }
     ],
     "prompt_number": 6
    },
    {
     "cell_type": "code",
     "collapsed": false,
     "input": [
      "#Ground Truth Click Through Rates\n",
      "p_B = DonationProb(0.20, [1,], [1.0,])\n",
      "p_A = DonationProb(0.23, [1,], [1.0,])\n",
      "\n",
      "# Estimate Control CTR From Historical Data\n",
      "n = 5000\n",
      "hist_data_B = SimStream(p_B).get_next_records(n)\n",
      "p_hat = EmpiricalDonationProb(hist_data_B, p_B.values)\n",
      "ci =  p_hat.p_donate_ci()\n",
      "print \"CI over control:\",  ci\n",
      "interval = round(1.0/ci[0])*50\n",
      "print \"Evalaution Interval\", interval\n",
      "\n",
      "#interest in lift vlaues:\n",
      "lifts = [-0.20, -0.10, -0.05, -0.025, -0.015,0, 0.015, 0.025, 0.05, 0.10, 0.20]\n",
      "\n",
      "\n"
     ],
     "language": "python",
     "metadata": {},
     "outputs": [
      {
       "output_type": "stream",
       "stream": "stdout",
       "text": [
        "CI over control: (0.18791449961904458, 0.1986, 0.20983639012346994)\n",
        "Evalaution Interval 250.0\n"
       ]
      }
     ],
     "prompt_number": 9
    },
    {
     "cell_type": "code",
     "collapsed": false,
     "input": [
      "# Set Up NH  AB Test\n",
      "mde = 0.05\n",
      "alpha = 0.05\n",
      "power = 0.95\n",
      "max_run = samples_per_branch_calculator(p_hat, mde, alpha, power)\n",
      "print max_run\n",
      "\n",
      "iters = 1000\n",
      "expected_results_by_lift(NHABTest,[SimStream(p_A), SimStream(p_B), 250, max_run, alpha], iters, p_hat, lifts)"
     ],
     "language": "python",
     "metadata": {},
     "outputs": [
      {
       "output_type": "stream",
       "stream": "stdout",
       "text": [
        "41950.4509031\n",
        "-0.2\n",
        "-0.1"
       ]
      },
      {
       "output_type": "stream",
       "stream": "stdout",
       "text": [
        "\n",
        "-0.05"
       ]
      },
      {
       "output_type": "stream",
       "stream": "stdout",
       "text": [
        "\n",
        "-0.025"
       ]
      },
      {
       "output_type": "stream",
       "stream": "stdout",
       "text": [
        "\n",
        "-0.015"
       ]
      },
      {
       "output_type": "stream",
       "stream": "stdout",
       "text": [
        "\n",
        "0"
       ]
      },
      {
       "output_type": "stream",
       "stream": "stdout",
       "text": [
        "\n",
        "0.015"
       ]
      },
      {
       "output_type": "stream",
       "stream": "stdout",
       "text": [
        "\n",
        "0.025"
       ]
      },
      {
       "output_type": "stream",
       "stream": "stdout",
       "text": [
        "\n",
        "0.05"
       ]
      },
      {
       "output_type": "stream",
       "stream": "stdout",
       "text": [
        "\n",
        "0.1"
       ]
      },
      {
       "output_type": "stream",
       "stream": "stdout",
       "text": [
        "\n",
        "0.2"
       ]
      },
      {
       "output_type": "stream",
       "stream": "stdout",
       "text": [
        "\n",
        "[-20.  -10.   -5.   -2.5  -1.5   0.    1.5   2.5   5.   10.   20. ]"
       ]
      },
      {
       "output_type": "stream",
       "stream": "stdout",
       "text": [
        "\n"
       ]
      },
      {
       "metadata": {},
       "output_type": "display_data",
       "png": "[encoded data removed]",
       "text": [
        "<matplotlib.figure.Figure at 0x10e4d8210>"
       ]
      },
      {
       "html": [
        "<div style=\"max-height:1000px;max-width:1500px;overflow:auto;\">\n",
        "<table border=\"1\" class=\"dataframe\">\n",
        "  <thead>\n",
        "    <tr style=\"text-align: right;\">\n",
        "      <th></th>\n",
        "      <th>% lift A over B</th>\n",
        "      <th>P(Choosing A) Median</th>\n",
        "      <th>P(Unknown) Median</th>\n",
        "      <th>Avg Time</th>\n",
        "    </tr>\n",
        "  </thead>\n",
        "  <tbody>\n",
        "    <tr>\n",
        "      <th>0 </th>\n",
        "      <td>-20.0</td>\n",
        "      <td> 0.000</td>\n",
        "      <td> 0.000</td>\n",
        "      <td>   924.75</td>\n",
        "    </tr>\n",
        "    <tr>\n",
        "      <th>1 </th>\n",
        "      <td>-10.0</td>\n",
        "      <td> 0.009</td>\n",
        "      <td> 0.000</td>\n",
        "      <td>  2909.75</td>\n",
        "    </tr>\n",
        "    <tr>\n",
        "      <th>2 </th>\n",
        "      <td> -5.0</td>\n",
        "      <td> 0.030</td>\n",
        "      <td> 0.019</td>\n",
        "      <td>  9485.75</td>\n",
        "    </tr>\n",
        "    <tr>\n",
        "      <th>3 </th>\n",
        "      <td> -2.5</td>\n",
        "      <td> 0.085</td>\n",
        "      <td> 0.266</td>\n",
        "      <td> 20150.25</td>\n",
        "    </tr>\n",
        "    <tr>\n",
        "      <th>4 </th>\n",
        "      <td> -1.5</td>\n",
        "      <td> 0.118</td>\n",
        "      <td> 0.457</td>\n",
        "      <td> 24625.50</td>\n",
        "    </tr>\n",
        "    <tr>\n",
        "      <th>5 </th>\n",
        "      <td>  0.0</td>\n",
        "      <td> 0.192</td>\n",
        "      <td> 0.583</td>\n",
        "      <td> 27605.00</td>\n",
        "    </tr>\n",
        "    <tr>\n",
        "      <th>6 </th>\n",
        "      <td>  1.5</td>\n",
        "      <td> 0.433</td>\n",
        "      <td> 0.478</td>\n",
        "      <td> 25842.25</td>\n",
        "    </tr>\n",
        "    <tr>\n",
        "      <th>7 </th>\n",
        "      <td>  2.5</td>\n",
        "      <td> 0.643</td>\n",
        "      <td> 0.284</td>\n",
        "      <td> 20845.00</td>\n",
        "    </tr>\n",
        "    <tr>\n",
        "      <th>8 </th>\n",
        "      <td>  5.0</td>\n",
        "      <td> 0.929</td>\n",
        "      <td> 0.022</td>\n",
        "      <td>  9930.25</td>\n",
        "    </tr>\n",
        "    <tr>\n",
        "      <th>9 </th>\n",
        "      <td> 10.0</td>\n",
        "      <td> 0.992</td>\n",
        "      <td> 0.000</td>\n",
        "      <td>  3312.00</td>\n",
        "    </tr>\n",
        "    <tr>\n",
        "      <th>10</th>\n",
        "      <td> 20.0</td>\n",
        "      <td> 0.999</td>\n",
        "      <td> 0.000</td>\n",
        "      <td>  1005.00</td>\n",
        "    </tr>\n",
        "  </tbody>\n",
        "</table>\n",
        "</div>"
       ],
       "metadata": {},
       "output_type": "pyout",
       "prompt_number": 35,
       "text": [
        "    % lift A over B  P(Choosing A) Median  P(Unknown) Median  Avg Time\n",
        "0             -20.0                 0.000              0.000    924.75\n",
        "1             -10.0                 0.009              0.000   2909.75\n",
        "2              -5.0                 0.030              0.019   9485.75\n",
        "3              -2.5                 0.085              0.266  20150.25\n",
        "4              -1.5                 0.118              0.457  24625.50\n",
        "5               0.0                 0.192              0.583  27605.00\n",
        "6               1.5                 0.433              0.478  25842.25\n",
        "7               2.5                 0.643              0.284  20845.00\n",
        "8               5.0                 0.929              0.022   9930.25\n",
        "9              10.0                 0.992              0.000   3312.00\n",
        "10             20.0                 0.999              0.000   1005.00"
       ]
      }
     ],
     "prompt_number": 35
    },
    {
     "cell_type": "markdown",
     "metadata": {},
     "source": [
      "As an example, lets set the true CTR of the control banner B to be 0.2. In practice, we will not know the true value of B's CTR. We will neeed to estimate it either from historical data or by running it by itself for a while. One concern might be that the simulated results are quite sensitive to errors in estimation. To account for this we can form a confidence interval around CTR_B and use the lower and uppper bounds of the confidence interval to anker the simulation and see how the results differ. If the difference is too large, we will need to get more data on Banner B to form a tighter interval. For the following experiments I simulated 5000 impressions of a banner with CTR = 0.2 and formed a 95% credible interval:\n"
     ]
    },
    {
     "cell_type": "code",
     "collapsed": false,
     "input": [
      "import numpy as np\n",
      "from numpy.random import beta, binomial\n",
      "\n",
      "impressions = 5000\n",
      "clicks = binomial(impressions, 0.2)\n",
      "CTR_B_distribution = beta(clicks, impressions-clicks, 10000)\n",
      "\n",
      "print 'Lower Bound %0.3f' % np.percentile(CTR_B_distribution, 2.5)\n",
      "print 'Upper Bound %0.3f' % np.percentile(CTR_B_distribution, 97.5)\n"
     ],
     "language": "python",
     "metadata": {},
     "outputs": [
      {
       "output_type": "stream",
       "stream": "stdout",
       "text": [
        "Lower Bound 0.192\n",
        "Upper Bound 0.214\n"
       ]
      }
     ],
     "prompt_number": 19
    },
    {
     "cell_type": "markdown",
     "metadata": {},
     "source": [
      "Lets set MDE=0.05, beta = 0.95, alpha = 0.5 and do a Null hypothesis every n = 250 records. For the figures below, I ran the simulation k = 1000 times.\n",
      "\n",
      "The first thing to notice is that the probability of declaring A to be the better than B when the lift is 0 is 0.18. This means that the effective significance level of our procedure is only 0.36, although the single null hypothesis tests where testing at significance 0.05. Here you have the corrupting power of peeking at p_vlaues in action! But this algorithm has its redeeming qualities. Look at the expected number of samples needed as a function of the percent lift in CTR. We can detect a 10% lift with probability 0.988 with only an average of 3500 records, one tenth of the classicly determined sample size! \n",
      "\n",
      "To get a deeper understanding of what the effect of peeking is, lets try the extremes: testing at every new pair of records and testing only once:"
     ]
    },
    {
     "cell_type": "code",
     "collapsed": false,
     "input": [
      "# Set Up NH  AB Test\n",
      "mde = 0.05\n",
      "alpha = 0.05\n",
      "power = 0.95\n",
      "max_run = samples_per_branch_calculator(p_hat, mde, alpha, power)\n",
      "print max_run\n",
      "\n",
      "iters = 5000\n",
      "expected_results_by_lift(NHABTest,[SimStream(p_A), SimStream(p_B), 41951, max_run, alpha], iters, p_hat, lifts)"
     ],
     "language": "python",
     "metadata": {},
     "outputs": [
      {
       "output_type": "stream",
       "stream": "stdout",
       "text": [
        "41950.4509031\n",
        "-0.2\n",
        "-0.1"
       ]
      },
      {
       "output_type": "stream",
       "stream": "stdout",
       "text": [
        "\n",
        "-0.05"
       ]
      },
      {
       "output_type": "stream",
       "stream": "stdout",
       "text": [
        "\n",
        "-0.025"
       ]
      },
      {
       "output_type": "stream",
       "stream": "stdout",
       "text": [
        "\n",
        "-0.015"
       ]
      },
      {
       "output_type": "stream",
       "stream": "stdout",
       "text": [
        "\n",
        "0"
       ]
      },
      {
       "output_type": "stream",
       "stream": "stdout",
       "text": [
        "\n",
        "0.015"
       ]
      },
      {
       "output_type": "stream",
       "stream": "stdout",
       "text": [
        "\n",
        "0.025"
       ]
      },
      {
       "output_type": "stream",
       "stream": "stdout",
       "text": [
        "\n",
        "0.05"
       ]
      },
      {
       "output_type": "stream",
       "stream": "stdout",
       "text": [
        "\n",
        "0.1"
       ]
      },
      {
       "output_type": "stream",
       "stream": "stdout",
       "text": [
        "\n",
        "0.2"
       ]
      },
      {
       "output_type": "stream",
       "stream": "stdout",
       "text": [
        "\n",
        "[-20.  -10.   -5.   -2.5  -1.5   0.    1.5   2.5   5.   10.   20. ]"
       ]
      },
      {
       "output_type": "stream",
       "stream": "stdout",
       "text": [
        "\n"
       ]
      },
      {
       "metadata": {},
       "output_type": "display_data",
       "png": "[encoded data removed]",
       "text": [
        "<matplotlib.figure.Figure at 0x10e2d7e90>"
       ]
      },
      {
       "html": [
        "<div style=\"max-height:1000px;max-width:1500px;overflow:auto;\">\n",
        "<table border=\"1\" class=\"dataframe\">\n",
        "  <thead>\n",
        "    <tr style=\"text-align: right;\">\n",
        "      <th></th>\n",
        "      <th>% lift A over B</th>\n",
        "      <th>P(Choosing A) Median</th>\n",
        "      <th>P(Unknown) Median</th>\n",
        "      <th>Avg Time</th>\n",
        "    </tr>\n",
        "  </thead>\n",
        "  <tbody>\n",
        "    <tr>\n",
        "      <th>0 </th>\n",
        "      <td>-20.0</td>\n",
        "      <td> 0.0000</td>\n",
        "      <td> 0.0000</td>\n",
        "      <td> 41951</td>\n",
        "    </tr>\n",
        "    <tr>\n",
        "      <th>1 </th>\n",
        "      <td>-10.0</td>\n",
        "      <td> 0.0000</td>\n",
        "      <td> 0.0000</td>\n",
        "      <td> 41951</td>\n",
        "    </tr>\n",
        "    <tr>\n",
        "      <th>2 </th>\n",
        "      <td> -5.0</td>\n",
        "      <td> 0.0000</td>\n",
        "      <td> 0.0476</td>\n",
        "      <td> 41951</td>\n",
        "    </tr>\n",
        "    <tr>\n",
        "      <th>3 </th>\n",
        "      <td> -2.5</td>\n",
        "      <td> 0.0000</td>\n",
        "      <td> 0.5536</td>\n",
        "      <td> 41951</td>\n",
        "    </tr>\n",
        "    <tr>\n",
        "      <th>4 </th>\n",
        "      <td> -1.5</td>\n",
        "      <td> 0.0016</td>\n",
        "      <td> 0.8042</td>\n",
        "      <td> 41951</td>\n",
        "    </tr>\n",
        "    <tr>\n",
        "      <th>5 </th>\n",
        "      <td>  0.0</td>\n",
        "      <td> 0.0272</td>\n",
        "      <td> 0.9494</td>\n",
        "      <td> 41951</td>\n",
        "    </tr>\n",
        "    <tr>\n",
        "      <th>6 </th>\n",
        "      <td>  1.5</td>\n",
        "      <td> 0.1878</td>\n",
        "      <td> 0.8106</td>\n",
        "      <td> 41951</td>\n",
        "    </tr>\n",
        "    <tr>\n",
        "      <th>7 </th>\n",
        "      <td>  2.5</td>\n",
        "      <td> 0.4264</td>\n",
        "      <td> 0.5734</td>\n",
        "      <td> 41951</td>\n",
        "    </tr>\n",
        "    <tr>\n",
        "      <th>8 </th>\n",
        "      <td>  5.0</td>\n",
        "      <td> 0.9464</td>\n",
        "      <td> 0.0536</td>\n",
        "      <td> 41951</td>\n",
        "    </tr>\n",
        "    <tr>\n",
        "      <th>9 </th>\n",
        "      <td> 10.0</td>\n",
        "      <td> 1.0000</td>\n",
        "      <td> 0.0000</td>\n",
        "      <td> 41951</td>\n",
        "    </tr>\n",
        "    <tr>\n",
        "      <th>10</th>\n",
        "      <td> 20.0</td>\n",
        "      <td> 1.0000</td>\n",
        "      <td> 0.0000</td>\n",
        "      <td> 41951</td>\n",
        "    </tr>\n",
        "  </tbody>\n",
        "</table>\n",
        "</div>"
       ],
       "metadata": {},
       "output_type": "pyout",
       "prompt_number": 37,
       "text": [
        "    % lift A over B  P(Choosing A) Median  P(Unknown) Median  Avg Time\n",
        "0             -20.0                0.0000             0.0000     41951\n",
        "1             -10.0                0.0000             0.0000     41951\n",
        "2              -5.0                0.0000             0.0476     41951\n",
        "3              -2.5                0.0000             0.5536     41951\n",
        "4              -1.5                0.0016             0.8042     41951\n",
        "5               0.0                0.0272             0.9494     41951\n",
        "6               1.5                0.1878             0.8106     41951\n",
        "7               2.5                0.4264             0.5734     41951\n",
        "8               5.0                0.9464             0.0536     41951\n",
        "9              10.0                1.0000             0.0000     41951\n",
        "10             20.0                1.0000             0.0000     41951"
       ]
      }
     ],
     "prompt_number": 37
    },
    {
     "cell_type": "markdown",
     "metadata": {},
     "source": [
      "Here we only tested once and after the classically computed number of records. We see that when the lift is 0, there is roughly a 5% chance of declaring a winner. This false discovery rate corresponds to the significance level of the Null Hypothesis test, which we set to 5%. We also specified that we want to ba able to detect a 5% effect 95% of the time. In the simulation, we detected a 5% gain over the control CTR 94.5% of the time and %5 drop 94.9% of the time. The results of the simulation match the set up of the Null hyothesis test as expected. Now, when to go the the extreme of testing after every pair of records, we make false discoveries %65.2 of the time. We declare a banner with a 5% lift over the control as the winner only 81.5% of the time and and banner with a %-5% list as the winner 16.7% of the time. The advanage of testing every record is that the expected run time of the test is minimized. The takeaway is that you can trade off accuracy with sample size by changing the interval at which you test."
     ]
    },
    {
     "cell_type": "code",
     "collapsed": false,
     "input": [
      "# Set Up NH  AB Test\n",
      "mde = 0.05\n",
      "alpha = 0.05\n",
      "power = 0.95\n",
      "max_run = samples_per_branch_calculator(p_hat, mde, alpha, power)\n",
      "print max_run\n",
      "\n",
      "iters = 1000\n",
      "expected_results_by_lift(NHABTest,[SimStream(p_A), SimStream(p_B), 1, max_run, alpha], iters, p_hat, lifts)"
     ],
     "language": "python",
     "metadata": {},
     "outputs": [
      {
       "output_type": "stream",
       "stream": "stdout",
       "text": [
        "41069.3920898\n",
        "-0.2\n",
        "-0.1"
       ]
      },
      {
       "output_type": "stream",
       "stream": "stdout",
       "text": [
        "\n",
        "-0.05"
       ]
      },
      {
       "output_type": "stream",
       "stream": "stdout",
       "text": [
        "\n",
        "-0.025"
       ]
      },
      {
       "output_type": "stream",
       "stream": "stdout",
       "text": [
        "\n",
        "-0.015"
       ]
      },
      {
       "output_type": "stream",
       "stream": "stdout",
       "text": [
        "\n",
        "0"
       ]
      },
      {
       "output_type": "stream",
       "stream": "stdout",
       "text": [
        "\n",
        "0.015"
       ]
      },
      {
       "output_type": "stream",
       "stream": "stdout",
       "text": [
        "\n",
        "0.025"
       ]
      },
      {
       "output_type": "stream",
       "stream": "stdout",
       "text": [
        "\n",
        "0.05"
       ]
      },
      {
       "output_type": "stream",
       "stream": "stdout",
       "text": [
        "\n",
        "0.1"
       ]
      },
      {
       "output_type": "stream",
       "stream": "stdout",
       "text": [
        "\n",
        "0.2"
       ]
      },
      {
       "output_type": "stream",
       "stream": "stdout",
       "text": [
        "\n"
       ]
      },
      {
       "metadata": {},
       "output_type": "display_data",
       "png": "[encoded data removed]",
       "text": [
        "<matplotlib.figure.Figure at 0x10b0a2610>"
       ]
      },
      {
       "html": [
        "<div style=\"max-height:1000px;max-width:1500px;overflow:auto;\">\n",
        "<table border=\"1\" class=\"dataframe\">\n",
        "  <thead>\n",
        "    <tr style=\"text-align: right;\">\n",
        "      <th></th>\n",
        "      <th>% lift A over B</th>\n",
        "      <th>P(Choosing A)</th>\n",
        "      <th>P(Unknown)</th>\n",
        "      <th>Avg Time</th>\n",
        "    </tr>\n",
        "  </thead>\n",
        "  <tbody>\n",
        "    <tr>\n",
        "      <th>0 </th>\n",
        "      <td>-0.200</td>\n",
        "      <td> 0.070</td>\n",
        "      <td> 0.000</td>\n",
        "      <td>   518.563</td>\n",
        "    </tr>\n",
        "    <tr>\n",
        "      <th>1 </th>\n",
        "      <td>-0.100</td>\n",
        "      <td> 0.115</td>\n",
        "      <td> 0.000</td>\n",
        "      <td>  1807.949</td>\n",
        "    </tr>\n",
        "    <tr>\n",
        "      <th>2 </th>\n",
        "      <td>-0.050</td>\n",
        "      <td> 0.169</td>\n",
        "      <td> 0.016</td>\n",
        "      <td>  5645.214</td>\n",
        "    </tr>\n",
        "    <tr>\n",
        "      <th>3 </th>\n",
        "      <td>-0.025</td>\n",
        "      <td> 0.225</td>\n",
        "      <td> 0.174</td>\n",
        "      <td> 12264.695</td>\n",
        "    </tr>\n",
        "    <tr>\n",
        "      <th>4 </th>\n",
        "      <td>-0.015</td>\n",
        "      <td> 0.240</td>\n",
        "      <td> 0.251</td>\n",
        "      <td> 13660.303</td>\n",
        "    </tr>\n",
        "    <tr>\n",
        "      <th>5 </th>\n",
        "      <td> 0.000</td>\n",
        "      <td> 0.326</td>\n",
        "      <td> 0.329</td>\n",
        "      <td> 15751.379</td>\n",
        "    </tr>\n",
        "    <tr>\n",
        "      <th>6 </th>\n",
        "      <td> 0.015</td>\n",
        "      <td> 0.486</td>\n",
        "      <td> 0.279</td>\n",
        "      <td> 15103.576</td>\n",
        "    </tr>\n",
        "    <tr>\n",
        "      <th>7 </th>\n",
        "      <td> 0.025</td>\n",
        "      <td> 0.593</td>\n",
        "      <td> 0.196</td>\n",
        "      <td> 12534.981</td>\n",
        "    </tr>\n",
        "    <tr>\n",
        "      <th>8 </th>\n",
        "      <td> 0.050</td>\n",
        "      <td> 0.815</td>\n",
        "      <td> 0.011</td>\n",
        "      <td>  5628.926</td>\n",
        "    </tr>\n",
        "    <tr>\n",
        "      <th>9 </th>\n",
        "      <td> 0.100</td>\n",
        "      <td> 0.860</td>\n",
        "      <td> 0.000</td>\n",
        "      <td>  1949.256</td>\n",
        "    </tr>\n",
        "    <tr>\n",
        "      <th>10</th>\n",
        "      <td> 0.200</td>\n",
        "      <td> 0.934</td>\n",
        "      <td> 0.000</td>\n",
        "      <td>   607.010</td>\n",
        "    </tr>\n",
        "  </tbody>\n",
        "</table>\n",
        "</div>"
       ],
       "metadata": {},
       "output_type": "pyout",
       "prompt_number": 16,
       "text": [
        "    % lift A over B  P(Choosing A)  P(Unknown)   Avg Time\n",
        "0            -0.200          0.070       0.000    518.563\n",
        "1            -0.100          0.115       0.000   1807.949\n",
        "2            -0.050          0.169       0.016   5645.214\n",
        "3            -0.025          0.225       0.174  12264.695\n",
        "4            -0.015          0.240       0.251  13660.303\n",
        "5             0.000          0.326       0.329  15751.379\n",
        "6             0.015          0.486       0.279  15103.576\n",
        "7             0.025          0.593       0.196  12534.981\n",
        "8             0.050          0.815       0.011   5628.926\n",
        "9             0.100          0.860       0.000   1949.256\n",
        "10            0.200          0.934       0.000    607.010"
       ]
      }
     ],
     "prompt_number": 16
    },
    {
     "cell_type": "markdown",
     "metadata": {},
     "source": [
      "\n",
      "\n",
      "\n",
      "\n",
      "\n",
      "\n",
      "\n",
      "\n",
      "\n"
     ]
    },
    {
     "cell_type": "code",
     "collapsed": false,
     "input": [],
     "language": "python",
     "metadata": {},
     "outputs": []
    },
    {
     "cell_type": "code",
     "collapsed": false,
     "input": [],
     "language": "python",
     "metadata": {},
     "outputs": []
    },
    {
     "cell_type": "code",
     "collapsed": false,
     "input": [],
     "language": "python",
     "metadata": {},
     "outputs": []
    },
    {
     "cell_type": "markdown",
     "metadata": {},
     "source": [
      "The algorithm I will describe next has the same form but we will swap out the Null Hypthesis test withh a different stopping criterium. Instead of stopping when the probability of the observed difference in means under the assumption that the banners have the same CTR is below our significance level alpha,  (wow, so convoluted) lets stop when the expected cost associated with our decision is low. This idea comes from Chris Stuchio's [recent post](http://www.bayesianwitch.com/blog/2014/bayesian_ab_test.html)\n",
      "\n",
      "\n",
      "In particular, there is something strange going on when we run the simulation at 0 lift. We are waiting around for the null hyopothesis to falsely declare significance. Wouldn't it be better to terminate the experiment when we are reasonably sure that the the banners where the same and that the expected cost of choosing one over the other was small?\n",
      "\n",
      "\n",
      "To achieve this objective, we will need to switch to the bayesian formalism, in which we treat our click through rates not as unknown fixed parmeters, but as random variables. For a primer on bayesian AB testing, I recommend Sergey Feldman's [blog post](http://engineering.richrelevance.com/bayesian-ab-tests/). Using the techiques described in Feldman's blog, we can form a numeric representation of the joint posterior distribution over the click through rates CTR_A and CTR_B, which will be crucial.\n",
      "\n",
      "Say that after collecting N samples, you find banner A has a higher empirical click through rate than banner B. \n",
      "\n",
      " To decide whether to stop the test, we could see how much of a chance remains that B is better that A and stop if P(CTR_B > CTR_A) is below a threshold. The rub is that if the banners really where the same, then P(CTR_B < CTR_A) should be 0.5. We are in the same situation as before of waiting for a false result to terminate our test. \n",
      " \n",
      " To avoid this, consider the following cost function: \n",
      " \n",
      " f(CTR_A, CTR_b) = 0 if CTR_A > CTR_B\n",
      " \n",
      "              (CTR_B - CTR_A)  if CTR_B > CTR_A\n",
      " \n",
      " \n",
      "We incurr 0 cost if we pick the better banner and incurr the difference in CTR_R's if we make the wrong decision. We can run the test until the expected cost $E[f(CTR_A, CTR_b)]$ drops below a threshold. \n",
      " \n",
      " \n",
      "The code snippet below shows how to compute the expected cost through numerical integration, given the number of clicks and impressions for both banners:\n",
      "\n"
     ]
    },
    {
     "cell_type": "code",
     "collapsed": false,
     "input": [
      "import numpy as np\n",
      "from numpy.random import beta\n",
      "\n",
      "def expected_cost(a_clicks, a_impressions, b_clicks, b_impressions, num_samples=10000):\n",
      "    a_dist = beta(a_clicks, a_impressions - a_clicks, num_samples) \n",
      "    b_dist = beta(b_clicks, b_impressions - b_clicks, num_samples) \n",
      "    return np.maximum((b_dist-a_dist), 0).mean()"
     ],
     "language": "python",
     "metadata": {},
     "outputs": [],
     "prompt_number": 14
    },
    {
     "cell_type": "code",
     "collapsed": false,
     "input": [
      "expected_cost(10, 20, 12, 20)"
     ],
     "language": "python",
     "metadata": {},
     "outputs": [
      {
       "metadata": {},
       "output_type": "pyout",
       "prompt_number": 15,
       "text": [
        "0.1248811195960521"
       ]
      }
     ],
     "prompt_number": 15
    },
    {
     "cell_type": "markdown",
     "metadata": {},
     "source": [
      "\n",
      "Chris Stucchio recently derived a [closed form solution](https://www.chrisstucchio.com/blog/2014/bayesian_ab_decision_rule.html) for this cost function. This is certainly more compuationally efficient, but the advanatge of the numeric integration is that it is easy to expeirent with slight modification to the cost function. For example you could experiment with incurring the relative cost $(CTR_B - CTR_A)/ CTR_A$ instead of the absolute cost $CTR_B - CTR_A$. \n",
      "\n",
      "\n"
     ]
    },
    {
     "cell_type": "markdown",
     "metadata": {},
     "source": [
      "Below are the results for computing the expected cost every 250 records and stopping if the expected cost drops below 0.001. Picking the the right threshold is a bit difficult. I tried to find a value where the probability of choosing banner A as function of lift roughly matches up with the previous simulation where we used the Null hypothesis test as a stopping criterium. "
     ]
    },
    {
     "cell_type": "code",
     "collapsed": false,
     "input": [
      "# Set Up Cost  AB Test\n",
      "\n",
      "cost = 0.0002\n",
      "max_run = float('inf')  #this one is so clean it doesnt need a max_run arg\n",
      "\n",
      "iters = 1000\n",
      "expected_results_by_lift(CostABTest,[SimStream(p_A), SimStream(p_B), 250, max_run, cost], iters, p_hat, lifts)\n"
     ],
     "language": "python",
     "metadata": {},
     "outputs": [
      {
       "output_type": "stream",
       "stream": "stdout",
       "text": [
        "-0.2\n",
        "-0.1"
       ]
      },
      {
       "output_type": "stream",
       "stream": "stdout",
       "text": [
        "\n",
        "-0.05"
       ]
      },
      {
       "output_type": "stream",
       "stream": "stdout",
       "text": [
        "\n",
        "-0.025"
       ]
      },
      {
       "output_type": "stream",
       "stream": "stdout",
       "text": [
        "\n",
        "-0.015"
       ]
      },
      {
       "output_type": "stream",
       "stream": "stdout",
       "text": [
        "\n",
        "0"
       ]
      },
      {
       "output_type": "stream",
       "stream": "stdout",
       "text": [
        "\n",
        "0.015"
       ]
      },
      {
       "output_type": "stream",
       "stream": "stdout",
       "text": [
        "\n",
        "0.025"
       ]
      },
      {
       "output_type": "stream",
       "stream": "stdout",
       "text": [
        "\n",
        "0.05"
       ]
      },
      {
       "output_type": "stream",
       "stream": "stdout",
       "text": [
        "\n",
        "0.1"
       ]
      },
      {
       "output_type": "stream",
       "stream": "stdout",
       "text": [
        "\n",
        "0.2"
       ]
      },
      {
       "output_type": "stream",
       "stream": "stdout",
       "text": [
        "\n",
        "[-20.  -10.   -5.   -2.5  -1.5   0.    1.5   2.5   5.   10.   20. ]"
       ]
      },
      {
       "output_type": "stream",
       "stream": "stdout",
       "text": [
        "\n"
       ]
      },
      {
       "metadata": {},
       "output_type": "display_data",
       "png": "[encoded data removed]",
       "text": [
        "<matplotlib.figure.Figure at 0x10b1f6c10>"
       ]
      },
      {
       "html": [
        "<div style=\"max-height:1000px;max-width:1500px;overflow:auto;\">\n",
        "<table border=\"1\" class=\"dataframe\">\n",
        "  <thead>\n",
        "    <tr style=\"text-align: right;\">\n",
        "      <th></th>\n",
        "      <th>% lift A over B</th>\n",
        "      <th>P(Choosing A) Median</th>\n",
        "      <th>P(Unknown) Median</th>\n",
        "      <th>Avg Time</th>\n",
        "    </tr>\n",
        "  </thead>\n",
        "  <tbody>\n",
        "    <tr>\n",
        "      <th>0 </th>\n",
        "      <td>-20.0</td>\n",
        "      <td> 0.000</td>\n",
        "      <td> 0</td>\n",
        "      <td>   880.75</td>\n",
        "    </tr>\n",
        "    <tr>\n",
        "      <th>1 </th>\n",
        "      <td>-10.0</td>\n",
        "      <td> 0.007</td>\n",
        "      <td> 0</td>\n",
        "      <td>  2366.75</td>\n",
        "    </tr>\n",
        "    <tr>\n",
        "      <th>2 </th>\n",
        "      <td> -5.0</td>\n",
        "      <td> 0.025</td>\n",
        "      <td> 0</td>\n",
        "      <td>  6009.75</td>\n",
        "    </tr>\n",
        "    <tr>\n",
        "      <th>3 </th>\n",
        "      <td> -2.5</td>\n",
        "      <td> 0.121</td>\n",
        "      <td> 0</td>\n",
        "      <td> 13803.25</td>\n",
        "    </tr>\n",
        "    <tr>\n",
        "      <th>4 </th>\n",
        "      <td> -1.5</td>\n",
        "      <td> 0.172</td>\n",
        "      <td> 0</td>\n",
        "      <td> 20308.00</td>\n",
        "    </tr>\n",
        "    <tr>\n",
        "      <th>5 </th>\n",
        "      <td>  0.0</td>\n",
        "      <td> 0.471</td>\n",
        "      <td> 0</td>\n",
        "      <td> 32284.50</td>\n",
        "    </tr>\n",
        "    <tr>\n",
        "      <th>6 </th>\n",
        "      <td>  1.5</td>\n",
        "      <td> 0.803</td>\n",
        "      <td> 0</td>\n",
        "      <td> 20309.25</td>\n",
        "    </tr>\n",
        "    <tr>\n",
        "      <th>7 </th>\n",
        "      <td>  2.5</td>\n",
        "      <td> 0.897</td>\n",
        "      <td> 0</td>\n",
        "      <td> 13176.75</td>\n",
        "    </tr>\n",
        "    <tr>\n",
        "      <th>8 </th>\n",
        "      <td>  5.0</td>\n",
        "      <td> 0.959</td>\n",
        "      <td> 0</td>\n",
        "      <td>  6376.50</td>\n",
        "    </tr>\n",
        "    <tr>\n",
        "      <th>9 </th>\n",
        "      <td> 10.0</td>\n",
        "      <td> 0.991</td>\n",
        "      <td> 0</td>\n",
        "      <td>  2602.50</td>\n",
        "    </tr>\n",
        "    <tr>\n",
        "      <th>10</th>\n",
        "      <td> 20.0</td>\n",
        "      <td> 1.000</td>\n",
        "      <td> 0</td>\n",
        "      <td>  1063.75</td>\n",
        "    </tr>\n",
        "  </tbody>\n",
        "</table>\n",
        "</div>"
       ],
       "metadata": {},
       "output_type": "pyout",
       "prompt_number": 40,
       "text": [
        "    % lift A over B  P(Choosing A) Median  P(Unknown) Median  Avg Time\n",
        "0             -20.0                 0.000                  0    880.75\n",
        "1             -10.0                 0.007                  0   2366.75\n",
        "2              -5.0                 0.025                  0   6009.75\n",
        "3              -2.5                 0.121                  0  13803.25\n",
        "4              -1.5                 0.172                  0  20308.00\n",
        "5               0.0                 0.471                  0  32284.50\n",
        "6               1.5                 0.803                  0  20309.25\n",
        "7               2.5                 0.897                  0  13176.75\n",
        "8               5.0                 0.959                  0   6376.50\n",
        "9              10.0                 0.991                  0   2602.50\n",
        "10             20.0                 1.000                  0   1063.75"
       ]
      }
     ],
     "prompt_number": 40
    },
    {
     "cell_type": "code",
     "collapsed": false,
     "input": [
      "# Set Up Cost  AB Test\n",
      "\n",
      "cost = 0.0002\n",
      "max_run = float('inf')  #this one is so clean it doesnt need a max_run arg\n",
      "\n",
      "iters = 1000\n",
      "expected_results_by_lift(CostABTest,[SimStream(p_A), SimStream(p_B), 250, 41951, cost], iters, p_hat, lifts)\n"
     ],
     "language": "python",
     "metadata": {},
     "outputs": [
      {
       "output_type": "stream",
       "stream": "stdout",
       "text": [
        "-0.2\n",
        "-0.1"
       ]
      },
      {
       "output_type": "stream",
       "stream": "stdout",
       "text": [
        "\n",
        "-0.05"
       ]
      },
      {
       "output_type": "stream",
       "stream": "stdout",
       "text": [
        "\n",
        "-0.025"
       ]
      },
      {
       "output_type": "stream",
       "stream": "stdout",
       "text": [
        "\n",
        "-0.015"
       ]
      },
      {
       "output_type": "stream",
       "stream": "stdout",
       "text": [
        "\n",
        "0"
       ]
      },
      {
       "output_type": "stream",
       "stream": "stdout",
       "text": [
        "\n",
        "0.015"
       ]
      },
      {
       "output_type": "stream",
       "stream": "stdout",
       "text": [
        "\n",
        "0.025"
       ]
      },
      {
       "output_type": "stream",
       "stream": "stdout",
       "text": [
        "\n",
        "0.05"
       ]
      },
      {
       "output_type": "stream",
       "stream": "stdout",
       "text": [
        "\n",
        "0.1"
       ]
      },
      {
       "output_type": "stream",
       "stream": "stdout",
       "text": [
        "\n",
        "0.2"
       ]
      },
      {
       "output_type": "stream",
       "stream": "stdout",
       "text": [
        "\n",
        "[-20.  -10.   -5.   -2.5  -1.5   0.    1.5   2.5   5.   10.   20. ]"
       ]
      },
      {
       "output_type": "stream",
       "stream": "stdout",
       "text": [
        "\n"
       ]
      },
      {
       "metadata": {},
       "output_type": "display_data",
       "png": "[encoded data removed]",
       "text": [
        "<matplotlib.figure.Figure at 0x10e6d5b50>"
       ]
      },
      {
       "html": [
        "<div style=\"max-height:1000px;max-width:1500px;overflow:auto;\">\n",
        "<table border=\"1\" class=\"dataframe\">\n",
        "  <thead>\n",
        "    <tr style=\"text-align: right;\">\n",
        "      <th></th>\n",
        "      <th>% lift A over B</th>\n",
        "      <th>P(Choosing A) Median</th>\n",
        "      <th>P(Unknown) Median</th>\n",
        "      <th>Avg Time</th>\n",
        "    </tr>\n",
        "  </thead>\n",
        "  <tbody>\n",
        "    <tr>\n",
        "      <th>0 </th>\n",
        "      <td>-20.0</td>\n",
        "      <td> 0.000</td>\n",
        "      <td> 0.000</td>\n",
        "      <td>   910.75</td>\n",
        "    </tr>\n",
        "    <tr>\n",
        "      <th>1 </th>\n",
        "      <td>-10.0</td>\n",
        "      <td> 0.005</td>\n",
        "      <td> 0.000</td>\n",
        "      <td>  2390.25</td>\n",
        "    </tr>\n",
        "    <tr>\n",
        "      <th>2 </th>\n",
        "      <td> -5.0</td>\n",
        "      <td> 0.041</td>\n",
        "      <td> 0.000</td>\n",
        "      <td>  6098.00</td>\n",
        "    </tr>\n",
        "    <tr>\n",
        "      <th>3 </th>\n",
        "      <td> -2.5</td>\n",
        "      <td> 0.110</td>\n",
        "      <td> 0.065</td>\n",
        "      <td> 12282.50</td>\n",
        "    </tr>\n",
        "    <tr>\n",
        "      <th>4 </th>\n",
        "      <td> -1.5</td>\n",
        "      <td> 0.159</td>\n",
        "      <td> 0.137</td>\n",
        "      <td> 14828.25</td>\n",
        "    </tr>\n",
        "    <tr>\n",
        "      <th>5 </th>\n",
        "      <td>  0.0</td>\n",
        "      <td> 0.408</td>\n",
        "      <td> 0.220</td>\n",
        "      <td> 17409.25</td>\n",
        "    </tr>\n",
        "    <tr>\n",
        "      <th>6 </th>\n",
        "      <td>  1.5</td>\n",
        "      <td> 0.683</td>\n",
        "      <td> 0.125</td>\n",
        "      <td> 14700.00</td>\n",
        "    </tr>\n",
        "    <tr>\n",
        "      <th>7 </th>\n",
        "      <td>  2.5</td>\n",
        "      <td> 0.814</td>\n",
        "      <td> 0.072</td>\n",
        "      <td> 12815.50</td>\n",
        "    </tr>\n",
        "    <tr>\n",
        "      <th>8 </th>\n",
        "      <td>  5.0</td>\n",
        "      <td> 0.964</td>\n",
        "      <td> 0.001</td>\n",
        "      <td>  6305.75</td>\n",
        "    </tr>\n",
        "    <tr>\n",
        "      <th>9 </th>\n",
        "      <td> 10.0</td>\n",
        "      <td> 0.993</td>\n",
        "      <td> 0.000</td>\n",
        "      <td>  2521.50</td>\n",
        "    </tr>\n",
        "    <tr>\n",
        "      <th>10</th>\n",
        "      <td> 20.0</td>\n",
        "      <td> 1.000</td>\n",
        "      <td> 0.000</td>\n",
        "      <td>  1017.00</td>\n",
        "    </tr>\n",
        "  </tbody>\n",
        "</table>\n",
        "</div>"
       ],
       "metadata": {},
       "output_type": "pyout",
       "prompt_number": 39,
       "text": [
        "    % lift A over B  P(Choosing A) Median  P(Unknown) Median  Avg Time\n",
        "0             -20.0                 0.000              0.000    910.75\n",
        "1             -10.0                 0.005              0.000   2390.25\n",
        "2              -5.0                 0.041              0.000   6098.00\n",
        "3              -2.5                 0.110              0.065  12282.50\n",
        "4              -1.5                 0.159              0.137  14828.25\n",
        "5               0.0                 0.408              0.220  17409.25\n",
        "6               1.5                 0.683              0.125  14700.00\n",
        "7               2.5                 0.814              0.072  12815.50\n",
        "8               5.0                 0.964              0.001   6305.75\n",
        "9              10.0                 0.993              0.000   2521.50\n",
        "10             20.0                 1.000              0.000   1017.00"
       ]
      }
     ],
     "prompt_number": 39
    },
    {
     "cell_type": "markdown",
     "metadata": {},
     "source": [
      "\n",
      "\n",
      "In the examples above I assumed we knew the CTR of the control banner B and that it was 0.2. This allowed us to run synthetic tests comparing banner B with a banner A with some lift over B. The point of the simulation was to see how large an effect we are likely discover and how long it might take.\n",
      "\n",
      "\n",
      "In practice, we will not know the true value of B's CTR. We will neeed to estimate it either from historical data or by running it by itself for a while. One concern might be that the simulated results are quite sensitive to errors in estimation. To account for this we can form a confidence interval around CTR_B and use the lower and uppper bounds of the confidence interval as our CTR for B and see how the results differ. If the difference is too large, we will need to get more data on Banner B to form a tighter interval.\n",
      "\n",
      "\n",
      "\n",
      "\n",
      "\n"
     ]
    },
    {
     "cell_type": "code",
     "collapsed": false,
     "input": [],
     "language": "python",
     "metadata": {},
     "outputs": []
    },
    {
     "cell_type": "code",
     "collapsed": false,
     "input": [],
     "language": "python",
     "metadata": {},
     "outputs": []
    },
    {
     "cell_type": "code",
     "collapsed": false,
     "input": [],
     "language": "python",
     "metadata": {},
     "outputs": []
    },
    {
     "cell_type": "code",
     "collapsed": false,
     "input": [],
     "language": "python",
     "metadata": {},
     "outputs": []
    },
    {
     "cell_type": "code",
     "collapsed": false,
     "input": [],
     "language": "python",
     "metadata": {},
     "outputs": []
    },
    {
     "cell_type": "code",
     "collapsed": false,
     "input": [],
     "language": "python",
     "metadata": {},
     "outputs": []
    },
    {
     "cell_type": "code",
     "collapsed": false,
     "input": [
      "# Set Up Credible  AB Test\n",
      "\n",
      "conf = 0.95\n",
      "\n",
      "#in this case we need to estimate the max run time\n",
      "mde = 0.05 \n",
      "iters = 100\n",
      "p_better, p_same, times = expected_results(CredibilityABTest,[SimStream(p_B.lift(mde)), SimStream(p_B), interval, float('inf'), conf], iters)\n",
      "print \"P(Choose A):\",  p_better\n",
      "print \"Mean Run time: \", np.mean(times)\n",
      "print \"STD run Time: \", np.std(times)\n",
      "max_run = np.percentile(times, 95)\n",
      "print \"Max Run Time: \", max_run\n",
      "\n",
      "iters = 200\n",
      "expected_results_by_lift(CredibilityABTest,[SimStream(p_A), SimStream(p_B), interval, max_run, conf], iters, p_hat, lifts)"
     ],
     "language": "python",
     "metadata": {},
     "outputs": [
      {
       "output_type": "stream",
       "stream": "stdout",
       "text": [
        "P(Choose A): 0.94\n",
        "Mean Run time:  6512.5\n",
        "STD run Time:  7140.58602287\n",
        "Max Run Time:  22550.0\n",
        "-0.2\n"
       ]
      },
      {
       "ename": "KeyboardInterrupt",
       "evalue": "",
       "output_type": "pyerr",
       "traceback": [
        "\u001b[0;31m---------------------------------------------------------------------------\u001b[0m\n\u001b[0;31mKeyboardInterrupt\u001b[0m                         Traceback (most recent call last)",
        "\u001b[0;32m<ipython-input-3-64d1355f9507>\u001b[0m in \u001b[0;36m<module>\u001b[0;34m()\u001b[0m\n\u001b[1;32m     14\u001b[0m \u001b[0;34m\u001b[0m\u001b[0m\n\u001b[1;32m     15\u001b[0m \u001b[0miters\u001b[0m \u001b[0;34m=\u001b[0m \u001b[0;36m200\u001b[0m\u001b[0;34m\u001b[0m\u001b[0m\n\u001b[0;32m---> 16\u001b[0;31m \u001b[0mexpected_results_by_lift\u001b[0m\u001b[0;34m(\u001b[0m\u001b[0mCredibilityABTest\u001b[0m\u001b[0;34m,\u001b[0m\u001b[0;34m[\u001b[0m\u001b[0mSimStream\u001b[0m\u001b[0;34m(\u001b[0m\u001b[0mp_A\u001b[0m\u001b[0;34m)\u001b[0m\u001b[0;34m,\u001b[0m \u001b[0mSimStream\u001b[0m\u001b[0;34m(\u001b[0m\u001b[0mp_B\u001b[0m\u001b[0;34m)\u001b[0m\u001b[0;34m,\u001b[0m \u001b[0minterval\u001b[0m\u001b[0;34m,\u001b[0m \u001b[0mmax_run\u001b[0m\u001b[0;34m,\u001b[0m \u001b[0mconf\u001b[0m\u001b[0;34m]\u001b[0m\u001b[0;34m,\u001b[0m \u001b[0miters\u001b[0m\u001b[0;34m,\u001b[0m \u001b[0mp_hat\u001b[0m\u001b[0;34m,\u001b[0m \u001b[0mlifts\u001b[0m\u001b[0;34m)\u001b[0m\u001b[0;34m\u001b[0m\u001b[0m\n\u001b[0m",
        "\u001b[0;32m/Users/ellerywulczyn/wmf/self_terminating_ab/src/python/abstract_abtest.pyc\u001b[0m in \u001b[0;36mexpected_results_by_lift\u001b[0;34m(TestClass, params, iters, p_hat, lifts, fig_name)\u001b[0m\n\u001b[1;32m     97\u001b[0m \u001b[0;34m\u001b[0m\u001b[0m\n\u001b[1;32m     98\u001b[0m \u001b[0;34m\u001b[0m\u001b[0m\n\u001b[0;32m---> 99\u001b[0;31m         \u001b[0mp_better\u001b[0m\u001b[0;34m,\u001b[0m \u001b[0mp_unknown\u001b[0m\u001b[0;34m,\u001b[0m \u001b[0mtime\u001b[0m \u001b[0;34m=\u001b[0m \u001b[0mexpected_results\u001b[0m\u001b[0;34m(\u001b[0m\u001b[0mTestClass\u001b[0m\u001b[0;34m,\u001b[0m \u001b[0mparams\u001b[0m\u001b[0;34m,\u001b[0m \u001b[0miters\u001b[0m\u001b[0;34m)\u001b[0m\u001b[0;34m\u001b[0m\u001b[0m\n\u001b[0m\u001b[1;32m    100\u001b[0m         \u001b[0mrun_times_list\u001b[0m\u001b[0;34m.\u001b[0m\u001b[0mappend\u001b[0m\u001b[0;34m(\u001b[0m\u001b[0mtime\u001b[0m\u001b[0;34m)\u001b[0m\u001b[0;34m\u001b[0m\u001b[0m\n\u001b[1;32m    101\u001b[0m         \u001b[0mp_A_betters\u001b[0m\u001b[0;34m[\u001b[0m\u001b[0;34m'lower'\u001b[0m\u001b[0;34m]\u001b[0m\u001b[0;34m.\u001b[0m\u001b[0mappend\u001b[0m\u001b[0;34m(\u001b[0m\u001b[0mp_better\u001b[0m\u001b[0;34m)\u001b[0m\u001b[0;34m\u001b[0m\u001b[0m\n",
        "\u001b[0;32m/Users/ellerywulczyn/wmf/self_terminating_ab/src/python/abstract_abtest.pyc\u001b[0m in \u001b[0;36mexpected_results\u001b[0;34m(TestClass, params, iters)\u001b[0m\n\u001b[1;32m     48\u001b[0m     \u001b[0;32mfor\u001b[0m \u001b[0mi\u001b[0m \u001b[0;32min\u001b[0m \u001b[0mrange\u001b[0m\u001b[0;34m(\u001b[0m\u001b[0miters\u001b[0m\u001b[0;34m)\u001b[0m\u001b[0;34m:\u001b[0m\u001b[0;34m\u001b[0m\u001b[0m\n\u001b[1;32m     49\u001b[0m         \u001b[0mt\u001b[0m \u001b[0;34m=\u001b[0m \u001b[0mTestClass\u001b[0m\u001b[0;34m(\u001b[0m\u001b[0;34m*\u001b[0m\u001b[0mparams\u001b[0m\u001b[0;34m)\u001b[0m\u001b[0;34m\u001b[0m\u001b[0m\n\u001b[0;32m---> 50\u001b[0;31m         \u001b[0mresult\u001b[0m \u001b[0;34m=\u001b[0m \u001b[0mt\u001b[0m\u001b[0;34m.\u001b[0m\u001b[0mrun\u001b[0m\u001b[0;34m(\u001b[0m\u001b[0;34m)\u001b[0m\u001b[0;34m\u001b[0m\u001b[0m\n\u001b[0m\u001b[1;32m     51\u001b[0m \u001b[0;34m\u001b[0m\u001b[0m\n\u001b[1;32m     52\u001b[0m         \u001b[0;32mif\u001b[0m \u001b[0mresult\u001b[0m \u001b[0;34m==\u001b[0m \u001b[0;34m'A'\u001b[0m\u001b[0;34m:\u001b[0m\u001b[0;34m\u001b[0m\u001b[0m\n",
        "\u001b[0;32m/Users/ellerywulczyn/wmf/self_terminating_ab/src/python/abstract_abtest.pyc\u001b[0m in \u001b[0;36mrun\u001b[0;34m(self)\u001b[0m\n\u001b[1;32m     31\u001b[0m             \u001b[0ma_records\u001b[0m \u001b[0;34m=\u001b[0m \u001b[0mself\u001b[0m\u001b[0;34m.\u001b[0m\u001b[0ma_stream\u001b[0m\u001b[0;34m.\u001b[0m\u001b[0mget_next_records\u001b[0m\u001b[0;34m(\u001b[0m\u001b[0mself\u001b[0m\u001b[0;34m.\u001b[0m\u001b[0mtest_interval\u001b[0m\u001b[0;34m)\u001b[0m\u001b[0;34m\u001b[0m\u001b[0m\n\u001b[1;32m     32\u001b[0m             \u001b[0mb_records\u001b[0m \u001b[0;34m=\u001b[0m\u001b[0mself\u001b[0m\u001b[0;34m.\u001b[0m\u001b[0mb_stream\u001b[0m\u001b[0;34m.\u001b[0m\u001b[0mget_next_records\u001b[0m\u001b[0;34m(\u001b[0m\u001b[0mself\u001b[0m\u001b[0;34m.\u001b[0m\u001b[0mtest_interval\u001b[0m\u001b[0;34m)\u001b[0m\u001b[0;34m\u001b[0m\u001b[0m\n\u001b[0;32m---> 33\u001b[0;31m             \u001b[0mself\u001b[0m\u001b[0;34m.\u001b[0m\u001b[0ma_estimator\u001b[0m\u001b[0;34m.\u001b[0m\u001b[0mupdate\u001b[0m\u001b[0;34m(\u001b[0m\u001b[0ma_records\u001b[0m\u001b[0;34m)\u001b[0m\u001b[0;34m\u001b[0m\u001b[0m\n\u001b[0m\u001b[1;32m     34\u001b[0m             \u001b[0mself\u001b[0m\u001b[0;34m.\u001b[0m\u001b[0mb_estimator\u001b[0m\u001b[0;34m.\u001b[0m\u001b[0mupdate\u001b[0m\u001b[0;34m(\u001b[0m\u001b[0mb_records\u001b[0m\u001b[0;34m)\u001b[0m\u001b[0;34m\u001b[0m\u001b[0m\n\u001b[1;32m     35\u001b[0m             \u001b[0mresult\u001b[0m \u001b[0;34m=\u001b[0m \u001b[0mself\u001b[0m\u001b[0;34m.\u001b[0m\u001b[0mevaluate_stopping_criterium\u001b[0m\u001b[0;34m(\u001b[0m\u001b[0;34m)\u001b[0m\u001b[0;34m\u001b[0m\u001b[0m\n",
        "\u001b[0;32m/Users/ellerywulczyn/wmf/self_terminating_ab/src/python/bayesian_abtest.pyc\u001b[0m in \u001b[0;36mupdate\u001b[0;34m(self, counts)\u001b[0m\n\u001b[1;32m     41\u001b[0m     \u001b[0;32mdef\u001b[0m \u001b[0mupdate\u001b[0m\u001b[0;34m(\u001b[0m\u001b[0mself\u001b[0m\u001b[0;34m,\u001b[0m \u001b[0mcounts\u001b[0m\u001b[0;34m)\u001b[0m\u001b[0;34m:\u001b[0m\u001b[0;34m\u001b[0m\u001b[0m\n\u001b[1;32m     42\u001b[0m         \u001b[0mself\u001b[0m\u001b[0;34m.\u001b[0m\u001b[0mcounts\u001b[0m \u001b[0;34m+=\u001b[0m \u001b[0mcounts\u001b[0m\u001b[0;34m\u001b[0m\u001b[0m\n\u001b[0;32m---> 43\u001b[0;31m         \u001b[0mdist\u001b[0m \u001b[0;34m=\u001b[0m \u001b[0mdirichlet\u001b[0m\u001b[0;34m(\u001b[0m\u001b[0mself\u001b[0m\u001b[0;34m.\u001b[0m\u001b[0mcounts\u001b[0m\u001b[0;34m+\u001b[0m\u001b[0mself\u001b[0m\u001b[0;34m.\u001b[0m\u001b[0malpha\u001b[0m\u001b[0;34m,\u001b[0m \u001b[0;36m10000\u001b[0m\u001b[0;34m)\u001b[0m\u001b[0;34m.\u001b[0m\u001b[0mdot\u001b[0m\u001b[0;34m(\u001b[0m\u001b[0mself\u001b[0m\u001b[0;34m.\u001b[0m\u001b[0mvalues\u001b[0m\u001b[0;34m.\u001b[0m\u001b[0mtranspose\u001b[0m\u001b[0;34m(\u001b[0m\u001b[0;34m)\u001b[0m\u001b[0;34m)\u001b[0m\u001b[0;34m\u001b[0m\u001b[0m\n\u001b[0m\u001b[1;32m     44\u001b[0m         \u001b[0mself\u001b[0m\u001b[0;34m.\u001b[0m\u001b[0mdistributions\u001b[0m\u001b[0;34m.\u001b[0m\u001b[0mappend\u001b[0m\u001b[0;34m(\u001b[0m\u001b[0mdist\u001b[0m\u001b[0;34m)\u001b[0m\u001b[0;34m\u001b[0m\u001b[0m\n\u001b[1;32m     45\u001b[0m         \u001b[0mself\u001b[0m\u001b[0;34m.\u001b[0m\u001b[0mN\u001b[0m \u001b[0;34m=\u001b[0m \u001b[0mself\u001b[0m\u001b[0;34m.\u001b[0m\u001b[0mcounts\u001b[0m\u001b[0;34m.\u001b[0m\u001b[0msum\u001b[0m\u001b[0;34m(\u001b[0m\u001b[0;34m)\u001b[0m\u001b[0;34m\u001b[0m\u001b[0m\n",
        "\u001b[0;31mKeyboardInterrupt\u001b[0m: "
       ]
      }
     ],
     "prompt_number": 3
    },
    {
     "cell_type": "code",
     "collapsed": false,
     "input": [
      "from numpy.random import binomial, multinomial, beta, dirichlet\n",
      "import matplotlib.pyplot as plt\n",
      "a_dist =  beta(7500,  378250, 1000000)\n",
      "b_dist =  beta(7500,  378250, 1000000)\n",
      "\n",
      "#print (a_dist - b_dist)/b_dist\n",
      "#pd.Series((a_dist - b_dist)/b_dist).apply(lambda x: max(x, 0) )"
     ],
     "language": "python",
     "metadata": {},
     "outputs": [],
     "prompt_number": 206
    },
    {
     "cell_type": "code",
     "collapsed": false,
     "input": [
      "lift_d = (a_dist - b_dist)/b_dist\n",
      "plt.hist((a_dist - b_dist)/b_dist, bins = 100)\n",
      "cost_d = pd.Series((a_dist - b_dist)/b_dist).apply(lambda x: max(x, 0) )\n",
      "plt.hist(cost_d, bins = 100)\n",
      "print \"Cost of Choosing B:\", cost_d.mean()\n",
      "print \"A_mean \", a_dist.mean()\n",
      "print \"B_mean:\", b_dist.mean()\n",
      "print \"P(B_Better):\", (b_dist>a_dist).mean()"
     ],
     "language": "python",
     "metadata": {},
     "outputs": [
      {
       "output_type": "stream",
       "stream": "stdout",
       "text": [
        "Cost of Choosing B: 0.00651930530548\n",
        "A_mean  0.0194428315244\n",
        "B_mean: 0.0194426645613\n",
        "P(B_Better): 0.499427\n"
       ]
      },
      {
       "metadata": {},
       "output_type": "display_data",
       "png": "[encoded data removed]",
       "text": [
        "<matplotlib.figure.Figure at 0x11837cc50>"
       ]
      }
     ],
     "prompt_number": 207
    }
   ],
   "metadata": {}
  }
 ]
}